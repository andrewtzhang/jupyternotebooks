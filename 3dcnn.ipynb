{
 "cells": [
  {
   "cell_type": "markdown",
   "metadata": {},
   "source": [
    "# 3D CNN on ModelNet2"
   ]
  },
  {
   "cell_type": "code",
   "execution_count": 10,
   "metadata": {},
   "outputs": [
    {
     "name": "stdout",
     "output_type": "stream",
     "text": [
      "C:\\RESEARCH\n"
     ]
    }
   ],
   "source": [
    "import os\n",
    "import numpy as np\n",
    "import matplotlib.pyplot as plt\n",
    "import plaidml.keras as pl # TENSORFLOW w/ ROCm doesn't work w/ FX-8350 due to PCI-E 2.0\n",
    "os.environ[\"KERAS_BACKEND\"] = \"plaidml.keras.backend\"\n",
    "import keras\n",
    "from keras.utils import np_utils\n",
    "from keras.models import Sequential\n",
    "from keras.layers import Dense, Dropout, Flatten\n",
    "from keras.layers import Conv3D, MaxPooling3D, Activation, Conv2D, MaxPooling2D\n",
    "\n",
    "print(os.getcwd())\n",
    "from dataproc import x_train, x_test, y_train, y_test"
   ]
  },
  {
   "cell_type": "code",
   "execution_count": 19,
   "metadata": {},
   "outputs": [
    {
     "name": "stdout",
     "output_type": "stream",
     "text": [
      "Train on 457 samples, validate on 115 samples\n",
      "Epoch 1/50\n",
      " - 1s - loss: 0.4358 - acc: 0.7921 - val_loss: 0.2071 - val_acc: 0.9130\n",
      "Epoch 2/50\n",
      " - 1s - loss: 0.1512 - acc: 0.9409 - val_loss: 0.1658 - val_acc: 0.9391\n",
      "Epoch 3/50\n",
      " - 1s - loss: 0.1008 - acc: 0.9628 - val_loss: 0.1182 - val_acc: 0.9565\n",
      "Epoch 4/50\n",
      " - 1s - loss: 0.1042 - acc: 0.9584 - val_loss: 0.1793 - val_acc: 0.9565\n",
      "Epoch 5/50\n",
      " - 1s - loss: 0.0727 - acc: 0.9759 - val_loss: 0.1349 - val_acc: 0.9565\n",
      "Epoch 6/50\n",
      " - 1s - loss: 0.0454 - acc: 0.9847 - val_loss: 0.1527 - val_acc: 0.9478\n",
      "Epoch 7/50\n",
      " - 1s - loss: 0.0275 - acc: 0.9912 - val_loss: 0.1578 - val_acc: 0.9739\n",
      "Epoch 8/50\n",
      " - 1s - loss: 0.0235 - acc: 0.9934 - val_loss: 0.1698 - val_acc: 0.9565\n",
      "Epoch 9/50\n",
      " - 1s - loss: 0.0206 - acc: 0.9912 - val_loss: 0.1660 - val_acc: 0.9478\n",
      "Epoch 10/50\n",
      " - 1s - loss: 0.0176 - acc: 0.9934 - val_loss: 0.1773 - val_acc: 0.9652\n",
      "Epoch 11/50\n",
      " - 1s - loss: 0.0181 - acc: 0.9891 - val_loss: 0.1843 - val_acc: 0.9652\n",
      "Epoch 12/50\n",
      " - 1s - loss: 0.0148 - acc: 0.9956 - val_loss: 0.1981 - val_acc: 0.9652\n",
      "Epoch 13/50\n",
      " - 1s - loss: 0.0107 - acc: 1.0000 - val_loss: 0.1940 - val_acc: 0.9652\n",
      "Epoch 14/50\n",
      " - 1s - loss: 0.0099 - acc: 0.9956 - val_loss: 0.2071 - val_acc: 0.9652\n",
      "Epoch 15/50\n",
      " - 1s - loss: 0.0135 - acc: 0.9934 - val_loss: 0.2174 - val_acc: 0.9652\n",
      "Epoch 16/50\n",
      " - 1s - loss: 0.0150 - acc: 0.9934 - val_loss: 0.2066 - val_acc: 0.9652\n",
      "Epoch 17/50\n",
      " - 1s - loss: 0.0053 - acc: 1.0000 - val_loss: 0.2265 - val_acc: 0.9652\n",
      "Epoch 18/50\n",
      " - 1s - loss: 0.0048 - acc: 1.0000 - val_loss: 0.2339 - val_acc: 0.9652\n",
      "Epoch 19/50\n",
      " - 1s - loss: 0.0058 - acc: 1.0000 - val_loss: 0.2374 - val_acc: 0.9652\n",
      "Epoch 20/50\n",
      " - 1s - loss: 0.0036 - acc: 1.0000 - val_loss: 0.2334 - val_acc: 0.9652\n",
      "Epoch 21/50\n",
      " - 1s - loss: 0.0027 - acc: 1.0000 - val_loss: 0.2491 - val_acc: 0.9652\n",
      "Epoch 22/50\n",
      " - 1s - loss: 0.0036 - acc: 1.0000 - val_loss: 0.2621 - val_acc: 0.9652\n",
      "Epoch 23/50\n",
      " - 1s - loss: 0.0036 - acc: 1.0000 - val_loss: 0.2547 - val_acc: 0.9565\n",
      "Epoch 24/50\n",
      " - 1s - loss: 0.0037 - acc: 1.0000 - val_loss: 0.2820 - val_acc: 0.9652\n",
      "Epoch 25/50\n",
      " - 1s - loss: 0.0014 - acc: 1.0000 - val_loss: 0.3054 - val_acc: 0.9652\n",
      "Epoch 26/50\n",
      " - 1s - loss: 0.0032 - acc: 1.0000 - val_loss: 0.3155 - val_acc: 0.9652\n",
      "Epoch 27/50\n",
      " - 1s - loss: 0.0016 - acc: 1.0000 - val_loss: 0.3228 - val_acc: 0.9652\n",
      "Epoch 28/50\n",
      " - 1s - loss: 0.0028 - acc: 1.0000 - val_loss: 0.3180 - val_acc: 0.9565\n",
      "Epoch 29/50\n",
      " - 1s - loss: 0.0013 - acc: 1.0000 - val_loss: 0.3251 - val_acc: 0.9565\n",
      "Epoch 30/50\n",
      " - 1s - loss: 0.0029 - acc: 0.9978 - val_loss: 0.3316 - val_acc: 0.9565\n",
      "Epoch 31/50\n",
      " - 1s - loss: 0.0014 - acc: 1.0000 - val_loss: 0.3472 - val_acc: 0.9565\n",
      "Epoch 32/50\n",
      " - 1s - loss: 7.7912e-04 - acc: 1.0000 - val_loss: 0.3549 - val_acc: 0.9565\n",
      "Epoch 33/50\n",
      " - 1s - loss: 5.7056e-04 - acc: 1.0000 - val_loss: 0.3500 - val_acc: 0.9565\n",
      "Epoch 34/50\n",
      " - 1s - loss: 8.7983e-04 - acc: 1.0000 - val_loss: 0.3508 - val_acc: 0.9565\n",
      "Epoch 35/50\n",
      " - 1s - loss: 8.2350e-04 - acc: 1.0000 - val_loss: 0.3793 - val_acc: 0.9565\n",
      "Epoch 36/50\n",
      " - 1s - loss: 6.5803e-04 - acc: 1.0000 - val_loss: 0.3910 - val_acc: 0.9565\n",
      "Epoch 37/50\n",
      " - 1s - loss: 8.0643e-04 - acc: 1.0000 - val_loss: 0.3984 - val_acc: 0.9652\n",
      "Epoch 38/50\n",
      " - 1s - loss: 2.8957e-04 - acc: 1.0000 - val_loss: 0.4043 - val_acc: 0.9565\n",
      "Epoch 39/50\n",
      " - 1s - loss: 4.0595e-04 - acc: 1.0000 - val_loss: 0.4111 - val_acc: 0.9565\n",
      "Epoch 40/50\n",
      " - 1s - loss: 7.5126e-04 - acc: 1.0000 - val_loss: 0.3875 - val_acc: 0.9565\n",
      "Epoch 41/50\n",
      " - 1s - loss: 3.6679e-04 - acc: 1.0000 - val_loss: 0.3848 - val_acc: 0.9565\n",
      "Epoch 42/50\n",
      " - 1s - loss: 2.8935e-04 - acc: 1.0000 - val_loss: 0.3905 - val_acc: 0.9565\n",
      "Epoch 43/50\n",
      " - 1s - loss: 2.4885e-04 - acc: 1.0000 - val_loss: 0.3980 - val_acc: 0.9565\n",
      "Epoch 44/50\n",
      " - 1s - loss: 3.2685e-04 - acc: 1.0000 - val_loss: 0.4015 - val_acc: 0.9565\n",
      "Epoch 45/50\n",
      " - 1s - loss: 6.4959e-04 - acc: 1.0000 - val_loss: 0.4097 - val_acc: 0.9565\n",
      "Epoch 46/50\n",
      " - 1s - loss: 2.7798e-04 - acc: 1.0000 - val_loss: 0.4008 - val_acc: 0.9565\n",
      "Epoch 47/50\n",
      " - 1s - loss: 1.5216e-04 - acc: 1.0000 - val_loss: 0.3996 - val_acc: 0.9565\n",
      "Epoch 48/50\n",
      " - 1s - loss: 1.0096e-04 - acc: 1.0000 - val_loss: 0.4019 - val_acc: 0.9565\n",
      "Epoch 49/50\n",
      " - 1s - loss: 2.5490e-04 - acc: 1.0000 - val_loss: 0.4081 - val_acc: 0.9565\n",
      "Epoch 50/50\n",
      " - 1s - loss: 2.3230e-04 - acc: 1.0000 - val_loss: 0.4146 - val_acc: 0.9565\n",
      "Baseline Error: 4.35%\n"
     ]
    }
   ],
   "source": [
    "def cnn_model():\n",
    "    model = Sequential()\n",
    "    #model.add(Conv3D(16, 3, padding = 'same', input_shape=(32, 32, 32, 1), data_format=\"channels_last\"))\n",
    "    model.add(Conv2D(16, 3, padding = 'same', input_shape=(32, 32, 32)))\n",
    "    model.add(Activation('relu'))\n",
    "    #model.add(Conv3D(8, 3))\n",
    "    model.add(Conv2D(8, 3))\n",
    "    model.add(Activation('relu'))\n",
    "    #model.add(MaxPooling3D(pool_size=(2,2,2)))\n",
    "    model.add(MaxPooling2D(pool_size=(2,2)))\n",
    "    model.add(Dropout(.25))\n",
    "    model.add(Flatten())\n",
    "    model.add(Activation('relu'))\n",
    "    model.add(Dropout(.4))\n",
    "    model.add(Dense(2))\n",
    "    model.add(Activation('softmax'))\n",
    "    \n",
    "    model.compile(loss='categorical_crossentropy', optimizer='adam', metrics=['accuracy'])\n",
    "    return model\n",
    "\n",
    "model = cnn_model()\n",
    "# Fit the model\n",
    "model.fit(x_train, y_train, validation_data=(x_test, y_test), epochs=50, batch_size=20, verbose=2)\n",
    "# Final evaluation of the model\n",
    "scores = model.evaluate(x_test, y_test, verbose=0)\n",
    "print(\"Baseline Error: %.2f%%\" % (100-scores[1]*100))"
   ]
  },
  {
   "cell_type": "markdown",
   "metadata": {},
   "source": [
    "^????? huh?"
   ]
  },
  {
   "cell_type": "code",
   "execution_count": null,
   "metadata": {},
   "outputs": [],
   "source": []
  }
 ],
 "metadata": {
  "kernelspec": {
   "display_name": "Python 3",
   "language": "python",
   "name": "python3"
  },
  "language_info": {
   "codemirror_mode": {
    "name": "ipython",
    "version": 3
   },
   "file_extension": ".py",
   "mimetype": "text/x-python",
   "name": "python",
   "nbconvert_exporter": "python",
   "pygments_lexer": "ipython3",
   "version": "3.6.5"
  }
 },
 "nbformat": 4,
 "nbformat_minor": 2
}
