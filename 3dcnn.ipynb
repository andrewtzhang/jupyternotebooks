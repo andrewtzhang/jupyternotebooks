{
 "cells": [
  {
   "cell_type": "markdown",
   "metadata": {},
   "source": [
    "# 3D CNN on ModelNet2"
   ]
  },
  {
   "cell_type": "code",
   "execution_count": 1,
   "metadata": {},
   "outputs": [
    {
     "name": "stderr",
     "output_type": "stream",
     "text": [
      "Using plaidml.keras.backend backend.\n"
     ]
    },
    {
     "name": "stdout",
     "output_type": "stream",
     "text": [
      "C:\\RESEARCH\\jupyternotebooks\n"
     ]
    }
   ],
   "source": [
    "import os\n",
    "import numpy as np\n",
    "import matplotlib.pyplot as plt\n",
    "import plaidml.keras as pl # TENSORFLOW w/ ROCm doesn't work w/ FX-8350 due to PCI-E 2.0\n",
    "os.environ[\"KERAS_BACKEND\"] = \"plaidml.keras.backend\"\n",
    "import keras\n",
    "from keras.utils import np_utils\n",
    "from keras.models import Sequential\n",
    "from keras.layers import Dense, Dropout, Flatten\n",
    "from keras.layers import Conv3D, MaxPooling3D, Activation, Conv2D, MaxPooling2D\n",
    "\n",
    "print(os.getcwd())\n",
    "from dataproc import x_train, x_test, y_train, y_test"
   ]
  },
  {
   "cell_type": "code",
   "execution_count": 2,
   "metadata": {},
   "outputs": [
    {
     "name": "stderr",
     "output_type": "stream",
     "text": [
      "INFO:plaidml:Opening device \"opencl_amd_ellesmere.0\"\n"
     ]
    },
    {
     "name": "stdout",
     "output_type": "stream",
     "text": [
      "Train on 457 samples, validate on 115 samples\n",
      "Epoch 1/50\n"
     ]
    },
    {
     "name": "stderr",
     "output_type": "stream",
     "text": [
      "INFO:plaidml:Analyzing Ops: 69 of 203 operations complete\n",
      "INFO:plaidml:Analyzing Ops: 69 of 203 operations complete\n"
     ]
    },
    {
     "name": "stdout",
     "output_type": "stream",
     "text": [
      " - 18s - loss: 0.2935 - acc: 0.8600 - val_loss: 0.2115 - val_acc: 0.9217\n",
      "Epoch 2/50\n",
      " - 2s - loss: 0.0991 - acc: 0.9606 - val_loss: 0.1407 - val_acc: 0.9304\n",
      "Epoch 3/50\n",
      " - 2s - loss: 0.0479 - acc: 0.9869 - val_loss: 0.1373 - val_acc: 0.9478\n",
      "Epoch 4/50\n",
      " - 2s - loss: 0.0235 - acc: 0.9956 - val_loss: 0.1241 - val_acc: 0.9478\n",
      "Epoch 5/50\n",
      " - 2s - loss: 0.0130 - acc: 0.9956 - val_loss: 0.1432 - val_acc: 0.9478\n",
      "Epoch 6/50\n",
      " - 2s - loss: 0.0085 - acc: 1.0000 - val_loss: 0.1681 - val_acc: 0.9565\n",
      "Epoch 7/50\n",
      " - 2s - loss: 0.0070 - acc: 0.9978 - val_loss: 0.1927 - val_acc: 0.9652\n",
      "Epoch 8/50\n",
      " - 2s - loss: 0.0039 - acc: 1.0000 - val_loss: 0.1808 - val_acc: 0.9565\n",
      "Epoch 9/50\n",
      " - 2s - loss: 0.0023 - acc: 1.0000 - val_loss: 0.1798 - val_acc: 0.9652\n",
      "Epoch 10/50\n",
      " - 2s - loss: 0.0029 - acc: 1.0000 - val_loss: 0.2069 - val_acc: 0.9478\n",
      "Epoch 11/50\n",
      " - 2s - loss: 0.0067 - acc: 0.9956 - val_loss: 0.2179 - val_acc: 0.9478\n",
      "Epoch 12/50\n",
      " - 2s - loss: 0.0039 - acc: 1.0000 - val_loss: 0.2197 - val_acc: 0.9565\n",
      "Epoch 13/50\n",
      " - 2s - loss: 0.0023 - acc: 1.0000 - val_loss: 0.2553 - val_acc: 0.9391\n",
      "Epoch 14/50\n",
      " - 2s - loss: 0.0033 - acc: 0.9978 - val_loss: 0.2546 - val_acc: 0.9652\n",
      "Epoch 15/50\n",
      " - 2s - loss: 0.0014 - acc: 1.0000 - val_loss: 0.2183 - val_acc: 0.9565\n",
      "Epoch 16/50\n",
      " - 2s - loss: 7.2866e-04 - acc: 1.0000 - val_loss: 0.2302 - val_acc: 0.9565\n",
      "Epoch 17/50\n",
      " - 2s - loss: 3.1666e-04 - acc: 1.0000 - val_loss: 0.2365 - val_acc: 0.9565\n",
      "Epoch 18/50\n",
      " - 2s - loss: 1.6944e-04 - acc: 1.0000 - val_loss: 0.2403 - val_acc: 0.9565\n",
      "Epoch 19/50\n",
      " - 2s - loss: 2.3988e-04 - acc: 1.0000 - val_loss: 0.2435 - val_acc: 0.9565\n",
      "Epoch 20/50\n",
      " - 2s - loss: 2.7185e-04 - acc: 1.0000 - val_loss: 0.2498 - val_acc: 0.9565\n",
      "Epoch 21/50\n",
      " - 2s - loss: 1.7117e-04 - acc: 1.0000 - val_loss: 0.2520 - val_acc: 0.9565\n",
      "Epoch 22/50\n",
      " - 2s - loss: 1.8219e-04 - acc: 1.0000 - val_loss: 0.2567 - val_acc: 0.9565\n",
      "Epoch 23/50\n",
      " - 2s - loss: 1.8726e-04 - acc: 1.0000 - val_loss: 0.2622 - val_acc: 0.9565\n",
      "Epoch 24/50\n",
      " - 2s - loss: 1.0967e-04 - acc: 1.0000 - val_loss: 0.2666 - val_acc: 0.9565\n",
      "Epoch 25/50\n",
      " - 2s - loss: 2.4298e-04 - acc: 1.0000 - val_loss: 0.2702 - val_acc: 0.9565\n",
      "Epoch 26/50\n",
      " - 2s - loss: 5.4026e-04 - acc: 1.0000 - val_loss: 0.2880 - val_acc: 0.9565\n",
      "Epoch 27/50\n",
      " - 2s - loss: 2.3100e-04 - acc: 1.0000 - val_loss: 0.2917 - val_acc: 0.9565\n",
      "Epoch 28/50\n",
      " - 2s - loss: 1.0841e-04 - acc: 1.0000 - val_loss: 0.2934 - val_acc: 0.9565\n",
      "Epoch 29/50\n",
      " - 2s - loss: 8.0931e-05 - acc: 1.0000 - val_loss: 0.2948 - val_acc: 0.9565\n",
      "Epoch 30/50\n",
      " - 2s - loss: 7.9337e-05 - acc: 1.0000 - val_loss: 0.2970 - val_acc: 0.9565\n",
      "Epoch 31/50\n",
      " - 2s - loss: 5.6345e-05 - acc: 1.0000 - val_loss: 0.2995 - val_acc: 0.9565\n",
      "Epoch 32/50\n",
      " - 2s - loss: 5.9317e-05 - acc: 1.0000 - val_loss: 0.3041 - val_acc: 0.9565\n",
      "Epoch 33/50\n",
      " - 2s - loss: 7.0159e-05 - acc: 1.0000 - val_loss: 0.3069 - val_acc: 0.9565\n",
      "Epoch 34/50\n",
      " - 2s - loss: 3.7557e-05 - acc: 1.0000 - val_loss: 0.3087 - val_acc: 0.9565\n",
      "Epoch 35/50\n",
      " - 2s - loss: 6.6594e-05 - acc: 1.0000 - val_loss: 0.3104 - val_acc: 0.9565\n",
      "Epoch 36/50\n",
      " - 2s - loss: 4.2541e-05 - acc: 1.0000 - val_loss: 0.3129 - val_acc: 0.9565\n",
      "Epoch 37/50\n",
      " - 2s - loss: 5.5087e-05 - acc: 1.0000 - val_loss: 0.3171 - val_acc: 0.9565\n",
      "Epoch 38/50\n",
      " - 2s - loss: 5.2703e-05 - acc: 1.0000 - val_loss: 0.3201 - val_acc: 0.9565\n",
      "Epoch 39/50\n",
      " - 2s - loss: 5.4458e-05 - acc: 1.0000 - val_loss: 0.3228 - val_acc: 0.9565\n",
      "Epoch 40/50\n",
      " - 2s - loss: 2.8058e-05 - acc: 1.0000 - val_loss: 0.3256 - val_acc: 0.9565\n",
      "Epoch 41/50\n",
      " - 2s - loss: 3.8213e-05 - acc: 1.0000 - val_loss: 0.3264 - val_acc: 0.9565\n",
      "Epoch 42/50\n",
      " - 2s - loss: 3.4676e-05 - acc: 1.0000 - val_loss: 0.3268 - val_acc: 0.9565\n",
      "Epoch 43/50\n",
      " - 2s - loss: 3.5753e-05 - acc: 1.0000 - val_loss: 0.3284 - val_acc: 0.9565\n",
      "Epoch 44/50\n",
      " - 2s - loss: 3.8287e-05 - acc: 1.0000 - val_loss: 0.3329 - val_acc: 0.9565\n",
      "Epoch 45/50\n",
      " - 2s - loss: 2.7197e-05 - acc: 1.0000 - val_loss: 0.3386 - val_acc: 0.9565\n",
      "Epoch 46/50\n",
      " - 2s - loss: 4.4358e-05 - acc: 1.0000 - val_loss: 0.3443 - val_acc: 0.9565\n",
      "Epoch 47/50\n",
      " - 2s - loss: 2.9068e-05 - acc: 1.0000 - val_loss: 0.3461 - val_acc: 0.9565\n",
      "Epoch 48/50\n",
      " - 2s - loss: 2.9586e-05 - acc: 1.0000 - val_loss: 0.3433 - val_acc: 0.9565\n",
      "Epoch 49/50\n",
      " - 2s - loss: 4.1773e-05 - acc: 1.0000 - val_loss: 0.3438 - val_acc: 0.9565\n",
      "Epoch 50/50\n",
      " - 2s - loss: 2.8119e-05 - acc: 1.0000 - val_loss: 0.3442 - val_acc: 0.9565\n",
      "Baseline Error: 4.35%\n"
     ]
    }
   ],
   "source": [
    "def cnn_model():\n",
    "    model = Sequential()\n",
    "    model.add(Conv3D(16, 3, padding = 'same', input_shape=(32, 32, 32, 1), data_format=\"channels_last\"))\n",
    "    model.add(Activation('relu'))\n",
    "    model.add(Conv3D(8, 3))\n",
    "    model.add(Activation('relu'))\n",
    "    model.add(MaxPooling3D(pool_size=(2,2,2)))\n",
    "    model.add(Dropout(.25))\n",
    "    model.add(Flatten())\n",
    "    model.add(Activation('relu'))\n",
    "    model.add(Dropout(.4))\n",
    "    model.add(Dense(2))\n",
    "    model.add(Activation('softmax'))\n",
    "    \n",
    "    model.compile(loss='categorical_crossentropy', optimizer='adam', metrics=['accuracy'])\n",
    "    return model\n",
    "\n",
    "model = cnn_model()\n",
    "# Fit the model\n",
    "model.fit(x_train, y_train, validation_data=(x_test, y_test), epochs=50, batch_size=20, verbose=2)\n",
    "# Final evaluation of the model\n",
    "scores = model.evaluate(x_test, y_test, verbose=0)\n",
    "print(\"Baseline Error: %.2f%%\" % (100-scores[1]*100))"
   ]
  },
  {
   "cell_type": "markdown",
   "metadata": {},
   "source": [
    "^????? huh?"
   ]
  },
  {
   "cell_type": "code",
   "execution_count": null,
   "metadata": {},
   "outputs": [],
   "source": []
  }
 ],
 "metadata": {
  "kernelspec": {
   "display_name": "Python 3",
   "language": "python",
   "name": "python3"
  },
  "language_info": {
   "codemirror_mode": {
    "name": "ipython",
    "version": 3
   },
   "file_extension": ".py",
   "mimetype": "text/x-python",
   "name": "python",
   "nbconvert_exporter": "python",
   "pygments_lexer": "ipython3",
   "version": "3.6.5"
  }
 },
 "nbformat": 4,
 "nbformat_minor": 2
}
