{
  "cells": [
    {
      "metadata": {
        "_uuid": "395070cf85184987f02fa1ee666194bafff2b760"
      },
      "cell_type": "markdown",
      "source": "# Machine Learning from Start to Finish with Scikit-Learn\n\nThis notebook covers the basic Machine Learning process in Python step-by-step. Go from raw data to at least 78% accuracy on the Titanic Survivors dataset. \n\n### Steps Covered\n\n\n1. Importing  a DataFrame\n2. Visualize the Data\n3. Cleanup and Transform the Data\n4. Encode the Data\n5. Split Training and Test Sets\n6. Fine Tune Algorithms\n7. Cross Validate with KFold\n8. Upload to Kaggle"
    },
    {
      "metadata": {
        "_uuid": "8f8879f5b4421b01a7caba89cdfaac335cfeb01f"
      },
      "cell_type": "markdown",
      "source": "## CSV to DataFrame\n\nCSV files can be loaded into a dataframe by calling `pd.read_csv` . After loading the training and test files, print a `sample` to see what you're working with."
    },
    {
      "metadata": {
        "_uuid": "32de613b67403c42e2a8f80882ead5a30dc69a0f",
        "trusted": true
      },
      "cell_type": "code",
      "source": "import numpy as np\nimport pandas as pd\nimport matplotlib.pyplot as plt\nimport seaborn as sns\n%matplotlib inline\n\ndata_train = pd.read_csv('../input/train.csv')\ndata_test = pd.read_csv('../input/test.csv')\n\ndata_train.sample(3)",
      "execution_count": null,
      "outputs": []
    },
    {
      "metadata": {
        "_uuid": "b47bc4916754fa3a66593b9e25753ff3106783c0"
      },
      "cell_type": "markdown",
      "source": "## Visualizing Data\n\nVisualizing data is crucial for recognizing underlying patterns to exploit in the model. "
    },
    {
      "metadata": {
        "_uuid": "47215c7efca032626cd5cbb46dbaa24e655164fa",
        "trusted": true
      },
      "cell_type": "code",
      "source": "sns.barplot(x=\"Embarked\", y=\"Survived\", hue=\"Sex\", data=data_train);",
      "execution_count": null,
      "outputs": []
    },
    {
      "metadata": {
        "_uuid": "9ac75cac4fa8383a2805c9e65d45fc72570c28e4",
        "trusted": true
      },
      "cell_type": "code",
      "source": "sns.pointplot(x=\"Pclass\", y=\"Survived\", hue=\"Sex\", data=data_train,\n              palette={\"male\": \"blue\", \"female\": \"pink\"},\n              markers=[\"*\", \"o\"], linestyles=[\"-\", \"--\"]);",
      "execution_count": null,
      "outputs": []
    },
    {
      "metadata": {
        "_uuid": "dc6b52add867e557a50096aa09a7b3649d4a40e7"
      },
      "cell_type": "markdown",
      "source": "## Transforming Features\n\n1. Aside from 'Sex', the 'Age' feature is second in importance. To avoid overfitting, I'm grouping people into logical human age groups. \n2. Each Cabin starts with a letter. I bet this letter is much more important than the number that follows, let's slice it off. \n3. Fare is another continuous value that should be simplified. I ran `data_train.Fare.describe()` to get the distribution of the feature, then placed them into quartile bins accordingly. \n4. Extract information from the 'Name' feature. Rather than use the full name, I extracted the last name and name prefix (Mr. Mrs. Etc.), then appended them as their own features. \n5. Lastly, drop useless features. (Ticket and Name)"
    },
    {
      "metadata": {
        "_uuid": "3c16a2d4d7350183a7d0d7b7f61d2550b724aaf2",
        "trusted": false
      },
      "cell_type": "code",
      "source": "def simplify_ages(df):\n    df.Age = df.Age.fillna(-0.5)\n    bins = (-1, 0, 5, 12, 18, 25, 35, 60, 120)\n    group_names = ['Unknown', 'Baby', 'Child', 'Teenager', 'Student', 'Young Adult', 'Adult', 'Senior']\n    categories = pd.cut(df.Age, bins, labels=group_names)\n    df.Age = categories\n    return df\n\ndef simplify_cabins(df):\n    df.Cabin = df.Cabin.fillna('N')\n    df.Cabin = df.Cabin.apply(lambda x: x[0])\n    return df\n\ndef simplify_fares(df):\n    df.Fare = df.Fare.fillna(-0.5)\n    bins = (-1, 0, 8, 15, 31, 1000)\n    group_names = ['Unknown', '1_quartile', '2_quartile', '3_quartile', '4_quartile']\n    categories = pd.cut(df.Fare, bins, labels=group_names)\n    df.Fare = categories\n    return df\n\ndef format_name(df):\n    df['Lname'] = df.Name.apply(lambda x: x.split(' ')[0])\n    df['NamePrefix'] = df.Name.apply(lambda x: x.split(' ')[1])\n    return df    \n    \ndef drop_features(df):\n    return df.drop(['Ticket', 'Name', 'Embarked'], axis=1)\n\ndef transform_features(df):\n    df = simplify_ages(df)\n    df = simplify_cabins(df)\n    df = simplify_fares(df)\n    df = format_name(df)\n    df = drop_features(df)\n    return df\n\ndata_train = transform_features(data_train)\ndata_test = transform_features(data_test)\ndata_train.head()",
      "execution_count": null,
      "outputs": []
    },
    {
      "metadata": {
        "_uuid": "eefbc498bb38ba4fc91e67e5fff3ea76d6f52d67",
        "trusted": false
      },
      "cell_type": "code",
      "source": "",
      "execution_count": null,
      "outputs": []
    },
    {
      "metadata": {
        "_uuid": "b1575450ab5bf42876ec041e199bf8bc41ebe128",
        "trusted": false
      },
      "cell_type": "code",
      "source": "sns.barplot(x=\"Age\", y=\"Survived\", hue=\"Sex\", data=data_train);",
      "execution_count": null,
      "outputs": []
    },
    {
      "metadata": {
        "_uuid": "70341ca13aeb1bb943dc367a76b649fe048b2bc9",
        "trusted": false
      },
      "cell_type": "code",
      "source": "sns.barplot(x=\"Cabin\", y=\"Survived\", hue=\"Sex\", data=data_train);",
      "execution_count": null,
      "outputs": []
    },
    {
      "metadata": {
        "_uuid": "a93bf40b4bc4ec59b0d859a8df447ea9701a2175",
        "trusted": false
      },
      "cell_type": "code",
      "source": "sns.barplot(x=\"Fare\", y=\"Survived\", hue=\"Sex\", data=data_train);",
      "execution_count": null,
      "outputs": []
    },
    {
      "metadata": {
        "_uuid": "c5df2797bf2a6edd21bf861b24e92654039be613"
      },
      "cell_type": "markdown",
      "source": "## Some Final Encoding\n\nThe last part of the preprocessing phase is to normalize labels. The LabelEncoder in Scikit-learn will convert each unique string value into a number, making out data more flexible for various algorithms. \n\nThe result is a table of numbers that looks scary to humans, but beautiful to machines. "
    },
    {
      "metadata": {
        "_uuid": "7dba2087f8f833e62919a2ee861d9d452318d91e",
        "trusted": false
      },
      "cell_type": "code",
      "source": "from sklearn import preprocessing\ndef encode_features(df_train, df_test):\n    features = ['Fare', 'Cabin', 'Age', 'Sex', 'Lname', 'NamePrefix']\n    df_combined = pd.concat([df_train[features], df_test[features]])\n    \n    for feature in features:\n        le = preprocessing.LabelEncoder()\n        le = le.fit(df_combined[feature])\n        df_train[feature] = le.transform(df_train[feature])\n        df_test[feature] = le.transform(df_test[feature])\n    return df_train, df_test\n    \ndata_train, data_test = encode_features(data_train, data_test)\ndata_train.head()",
      "execution_count": null,
      "outputs": []
    },
    {
      "metadata": {
        "_uuid": "3f091efce7a453edb606fec894463073e9b695f5"
      },
      "cell_type": "markdown",
      "source": "## Splitting up the Training Data\n\nNow its time for some Machine Learning. \n\nFirst, separate the features(X) from the labels(y). \n\n**X_all:** All features minus the value we want to predict (Survived).\n\n**y_all:** Only the value we want to predict. \n\nSecond, use Scikit-learn to randomly shuffle this data into four variables. In this case, I'm training 80% of the data, then testing against the other 20%.  \n\nLater, this data will be reorganized into a KFold pattern to validate the effectiveness of a trained algorithm. "
    },
    {
      "metadata": {
        "_uuid": "b7f9b1d53801875b6a4c91c18f7d7675b5e63f0e",
        "trusted": false
      },
      "cell_type": "code",
      "source": "from sklearn.model_selection import train_test_split\n\nX_all = data_train.drop(['Survived', 'PassengerId'], axis=1)\ny_all = data_train['Survived']\n\nnum_test = 0.20\nX_train, X_test, y_train, y_test = train_test_split(X_all, y_all, test_size=num_test, random_state=23)",
      "execution_count": null,
      "outputs": []
    },
    {
      "metadata": {
        "_uuid": "29a9ff44f36134315b34c847e0e4a02cb558c5ed"
      },
      "cell_type": "markdown",
      "source": "## Fitting and Tuning an Algorithm\n\nNow it's time to figure out which algorithm is going to deliver the best model. I'm going with the RandomForestClassifier, but you can drop any other classifier here, such as Support Vector Machines or Naive Bayes. "
    },
    {
      "metadata": {
        "_uuid": "4503afa13a5a6989dc753f15d0002e0fb376c9c4",
        "trusted": false
      },
      "cell_type": "code",
      "source": "from sklearn.ensemble import RandomForestClassifier\nfrom sklearn.metrics import make_scorer, accuracy_score\nfrom sklearn.model_selection import GridSearchCV\n\n# Choose the type of classifier. \nclf = RandomForestClassifier()\n\n# Choose some parameter combinations to try\nparameters = {'n_estimators': [4, 6, 9], \n              'max_features': ['log2', 'sqrt','auto'], \n              'criterion': ['entropy', 'gini'],\n              'max_depth': [2, 3, 5, 10], \n              'min_samples_split': [2, 3, 5],\n              'min_samples_leaf': [1,5,8]\n             }\n\n# Type of scoring used to compare parameter combinations\nacc_scorer = make_scorer(accuracy_score)\n\n# Run the grid search\ngrid_obj = GridSearchCV(clf, parameters, scoring=acc_scorer)\ngrid_obj = grid_obj.fit(X_train, y_train)\n\n# Set the clf to the best combination of parameters\nclf = grid_obj.best_estimator_\n\n# Fit the best algorithm to the data. \nclf.fit(X_train, y_train)\n\n",
      "execution_count": null,
      "outputs": []
    },
    {
      "metadata": {
        "_uuid": "fe275f5949d3008868327454db1f480d2c1409cc",
        "trusted": false
      },
      "cell_type": "code",
      "source": "predictions = clf.predict(X_test)\nprint(accuracy_score(y_test, predictions))",
      "execution_count": null,
      "outputs": []
    },
    {
      "metadata": {
        "_uuid": "b4efc9be958e4d2efc8656697d47f13790f57fb5"
      },
      "cell_type": "markdown",
      "source": "## Validate with KFold\n\nIs this model actually any good? It helps to verify the effectiveness of the algorithm using KFold. This will split our data into 10 buckets, then run the algorithm using a different bucket as the test set for each iteration. "
    },
    {
      "metadata": {
        "_uuid": "78012e8e737defd42bd95a61b17ab016a657fbd1",
        "trusted": false
      },
      "cell_type": "code",
      "source": "from sklearn.cross_validation import KFold\n\ndef run_kfold(clf):\n    kf = KFold(891, n_folds=10)\n    outcomes = []\n    fold = 0\n    for train_index, test_index in kf:\n        fold += 1\n        X_train, X_test = X_all.values[train_index], X_all.values[test_index]\n        y_train, y_test = y_all.values[train_index], y_all.values[test_index]\n        clf.fit(X_train, y_train)\n        predictions = clf.predict(X_test)\n        accuracy = accuracy_score(y_test, predictions)\n        outcomes.append(accuracy)\n        print(\"Fold {0} accuracy: {1}\".format(fold, accuracy))     \n    mean_outcome = np.mean(outcomes)\n    print(\"Mean Accuracy: {0}\".format(mean_outcome)) \n\nrun_kfold(clf)\n",
      "execution_count": null,
      "outputs": []
    },
    {
      "metadata": {
        "_uuid": "47eb5dc3c3baf8b1081177b18bbfab4d5f0ff36e"
      },
      "cell_type": "markdown",
      "source": "## Predict the Actual Test Data\n\nAnd now for the moment of truth. Make the predictions, export the CSV file, and upload them to Kaggle."
    },
    {
      "metadata": {
        "_uuid": "a701b80458bb08fe3d2ae20d22d771aa066fa0d7",
        "trusted": false
      },
      "cell_type": "code",
      "source": "ids = data_test['PassengerId']\npredictions = clf.predict(data_test.drop('PassengerId', axis=1))\n\n\noutput = pd.DataFrame({ 'PassengerId' : ids, 'Survived': predictions })\n# output.to_csv('titanic-predictions.csv', index = False)\noutput.head()",
      "execution_count": null,
      "outputs": []
    }
  ],
  "metadata": {
    "kernelspec": {
      "display_name": "Python 3",
      "language": "python",
      "name": "python3"
    },
    "language_info": {
      "name": "python",
      "version": "3.6.6",
      "mimetype": "text/x-python",
      "codemirror_mode": {
        "name": "ipython",
        "version": 3
      },
      "pygments_lexer": "ipython3",
      "nbconvert_exporter": "python",
      "file_extension": ".py"
    }
  },
  "nbformat": 4,
  "nbformat_minor": 1
}