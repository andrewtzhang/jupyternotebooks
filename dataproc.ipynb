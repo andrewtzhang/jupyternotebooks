{
 "cells": [
  {
   "cell_type": "code",
   "execution_count": 2,
   "metadata": {},
   "outputs": [],
   "source": [
    "import binvox_rw\n",
    "import numpy as np\n",
    "from pathlib import Path\n",
    "from glob import iglob\n",
    "import glob\n",
    "import os\n",
    "from sklearn.model_selection import train_test_split\n",
    "import scipy\n",
    "from scipy import sparse\n",
    "\n",
    "def get_immediate_subdirectories(a_dir):\n",
    "    return [name for name in os.listdir(a_dir)\n",
    "            if os.path.isdir(os.path.join(a_dir, name))]\n",
    "currentdir = os.getcwd()\n",
    "os.chdir(os.path.dirname(os.getcwd()))"
   ]
  },
  {
   "cell_type": "code",
   "execution_count": 3,
   "metadata": {},
   "outputs": [],
   "source": []
  },
  {
   "cell_type": "code",
   "execution_count": 82,
   "metadata": {},
   "outputs": [],
   "source": [
    "#os.system(\"C:\\Windows\\System32\\cmd.exe /c C:\\\\Users\\\\775657\\\\Documents\\\\jupyternotebooks\\hellothere.bat\")\n",
    "splits = ['train','test']\n",
    "#def_path = currentdir + '/data/ModelNet2/'\n",
    "def_path = 'C:/RESEARCH/data/ModelNet2/'\n",
    "types = get_immediate_subdirectories(def_path)\n",
    "x = []\n",
    "y = []\n",
    "\n",
    "for typ in range(len(types)): #Model Directory\n",
    "    \n",
    "    for split in range(len(splits)):\n",
    "        sof_paths =[]\n",
    "        full_path = def_path + types[typ] + '/' + splits[split] + '/*.binvox'\n",
    "        for filepath in iglob(full_path):\n",
    "            sof_paths.append(filepath)\n",
    "        \n",
    "        for file in range(len(sof_paths)): #File\n",
    "            \n",
    "            #Voxels\n",
    "            with open(sof_paths[file], 'rb') as f:\n",
    "                model = binvox_rw.read_as_3d_array(f)\n",
    "            x.append(model.data)\n",
    "            \n",
    "            #Labels\n",
    "            label = [0] * len(types)\n",
    "            label[typ] = 1\n",
    "            y.append(label)"
   ]
  },
  {
   "cell_type": "code",
   "execution_count": 83,
   "metadata": {},
   "outputs": [],
   "source": [
    "x = np.reshape(np.array(x, dtype=int), (572, 32, 32, 32, 1))\n",
    "y = np.array(y, dtype=int)\n",
    "\n",
    "x_train, x_test, y_train, y_test = train_test_split(x, y, test_size=0.15, random_state=42)"
   ]
  },
  {
   "cell_type": "code",
   "execution_count": 85,
   "metadata": {},
   "outputs": [
    {
     "data": {
      "text/plain": [
       "(486, 32, 32, 32, 1)"
      ]
     },
     "execution_count": 85,
     "metadata": {},
     "output_type": "execute_result"
    }
   ],
   "source": [
    "x_train.shape"
   ]
  },
  {
   "cell_type": "code",
   "execution_count": 81,
   "metadata": {},
   "outputs": [
    {
     "data": {
      "text/plain": [
       "(572, 32, 32, 32)"
      ]
     },
     "execution_count": 81,
     "metadata": {},
     "output_type": "execute_result"
    }
   ],
   "source": [
    "np.reshape(x, (572, 32, 32, 32)).shape"
   ]
  }
 ],
 "metadata": {
  "kernelspec": {
   "display_name": "Python 3",
   "language": "python",
   "name": "python3"
  },
  "language_info": {
   "codemirror_mode": {
    "name": "ipython",
    "version": 3
   },
   "file_extension": ".py",
   "mimetype": "text/x-python",
   "name": "python",
   "nbconvert_exporter": "python",
   "pygments_lexer": "ipython3",
   "version": "3.6.5"
  }
 },
 "nbformat": 4,
 "nbformat_minor": 2
}
