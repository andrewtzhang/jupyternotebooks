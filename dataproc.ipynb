{
 "cells": [
  {
   "cell_type": "code",
   "execution_count": 19,
   "metadata": {},
   "outputs": [],
   "source": [
    "import binvox_rw\n",
    "import numpy as np\n",
    "from pathlib import Path\n",
    "from glob import iglob\n",
    "import glob\n",
    "import os\n",
    "from sklearn.model_selection import train_test_split\n",
    "import scipy\n",
    "from scipy import sparse"
   ]
  },
  {
   "cell_type": "code",
   "execution_count": 6,
   "metadata": {},
   "outputs": [],
   "source": [
    "def get_immediate_subdirectories(a_dir):\n",
    "    return [name for name in os.listdir(a_dir)\n",
    "            if os.path.isdir(os.path.join(a_dir, name))]\n",
    "currentdir = os.getcwd()\n",
    "#os.system(\"C:\\Windows\\System32\\cmd.exe /c C:\\\\Users\\\\775657\\\\Documents\\\\jupyternotebooks\\hellothere.bat\")\n",
    "splits = ['train','test']\n",
    "def_path = 'ModelNet2mini/'\n",
    "types = get_immediate_subdirectories(def_path)\n",
    "x = []\n",
    "y = []\n",
    "\n",
    "for typ in range(len(types)): #Model Directory\n",
    "    \n",
    "    for split in range(len(splits)):\n",
    "        sof_paths =[]\n",
    "        full_path = def_path + types[typ] + '/' + splits[split] + '/*.binvox'\n",
    "        for filepath in iglob(full_path):\n",
    "            sof_paths.append(filepath)\n",
    "        \n",
    "        for file in range(len(sof_paths)): #File\n",
    "            \n",
    "            #Voxels\n",
    "            with open(sof_paths[file], 'rb') as f:\n",
    "                model = binvox_rw.read_as_3d_array(f)\n",
    "            x.append(model.data)\n",
    "            \n",
    "            #Labels\n",
    "            label = [0] * len(types)\n",
    "            label[typ] = 1\n",
    "            y.append(label)"
   ]
  },
  {
   "cell_type": "code",
   "execution_count": 11,
   "metadata": {},
   "outputs": [],
   "source": [
    "x = np.array(x, dtype=int)\n",
    "y = np.array(y, dtype=int)\n",
    "\n",
    "x_train, x_test, y_train, y_test = train_test_split(x, y, test_size=0.15, random_state=42)"
   ]
  },
  {
   "cell_type": "code",
   "execution_count": 21,
   "metadata": {},
   "outputs": [],
   "source": [
    "Sy_train = sparse.csr_matrix(y_train)"
   ]
  },
  {
   "cell_type": "code",
   "execution_count": 23,
   "metadata": {},
   "outputs": [
    {
     "data": {
      "text/plain": [
       "1677721600"
      ]
     },
     "execution_count": 23,
     "metadata": {},
     "output_type": "execute_result"
    }
   ],
   "source": [
    "x.nbytes"
   ]
  },
  {
   "cell_type": "code",
   "execution_count": null,
   "metadata": {},
   "outputs": [],
   "source": []
  }
 ],
 "metadata": {
  "kernelspec": {
   "display_name": "Python 3",
   "language": "python",
   "name": "python3"
  },
  "language_info": {
   "codemirror_mode": {
    "name": "ipython",
    "version": 3
   },
   "file_extension": ".py",
   "mimetype": "text/x-python",
   "name": "python",
   "nbconvert_exporter": "python",
   "pygments_lexer": "ipython3",
   "version": "3.6.5"
  }
 },
 "nbformat": 4,
 "nbformat_minor": 2
}
